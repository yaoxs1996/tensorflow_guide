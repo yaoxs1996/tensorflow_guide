{
 "metadata": {
  "language_info": {
   "codemirror_mode": {
    "name": "ipython",
    "version": 3
   },
   "file_extension": ".py",
   "mimetype": "text/x-python",
   "name": "python",
   "nbconvert_exporter": "python",
   "pygments_lexer": "ipython3",
   "version": "3.7.7-final"
  },
  "orig_nbformat": 2,
  "kernelspec": {
   "name": "python_defaultSpec_1598577265980",
   "display_name": "Python 3.7.7 64-bit ('yao': conda)"
  }
 },
 "nbformat": 4,
 "nbformat_minor": 2,
 "cells": [
  {
   "cell_type": "code",
   "execution_count": 2,
   "metadata": {},
   "outputs": [],
   "source": [
    "import functools        # 为函数式编程设计\n",
    "import numpy as np\n",
    "import tensorflow as tf\n",
    "import tensorflow_datasets as tfds"
   ]
  },
  {
   "cell_type": "code",
   "execution_count": 3,
   "metadata": {
    "tags": []
   },
   "outputs": [
    {
     "output_type": "stream",
     "name": "stdout",
     "text": "Downloading data from https://storage.googleapis.com/tf-datasets/titanic/train.csv\n32768/30874 [===============================] - 0s 4us/step\nDownloading data from https://storage.googleapis.com/tf-datasets/titanic/eval.csv\n16384/13049 [=====================================] - 0s 1us/step\n"
    }
   ],
   "source": [
    "TRAIN_DATA_URL = \"https://storage.googleapis.com/tf-datasets/titanic/train.csv\"\n",
    "TEST_DATA_URL = \"https://storage.googleapis.com/tf-datasets/titanic/eval.csv\"\n",
    "\n",
    "train_file_path = tf.keras.utils.get_file(\"train.csv\", TRAIN_DATA_URL)\n",
    "test_file_path = tf.keras.utils.get_file(\"eval.csv\", TEST_DATA_URL)"
   ]
  },
  {
   "cell_type": "code",
   "execution_count": 4,
   "metadata": {},
   "outputs": [],
   "source": [
    "np.set_printoptions(precision=3, suppress=True)     # 设置输出样式"
   ]
  },
  {
   "cell_type": "code",
   "execution_count": 25,
   "metadata": {
    "tags": []
   },
   "outputs": [
    {
     "output_type": "stream",
     "name": "stdout",
     "text": "survived,sex,age,n_siblings_spouses,parch,fare,class,deck,embark_town,alone\n0,male,22.0,1,0,7.25,Third,unknown,Southampton,n\n1,female,38.0,1,0,71.2833,First,C,Cherbourg,n\n1,female,26.0,0,0,7.925,Third,unknown,Southampton,y\n1,female,35.0,1,0,53.1,First,C,Southampton,n\n0,male,28.0,0,0,8.4583,Third,unknown,Queenstown,y\n0,male,2.0,3,1,21.075,Third,unknown,Southampton,n\n1,female,27.0,0,2,11.1333,Third,unknown,Southampton,n\n1,female,14.0,1,0,30.0708,Second,unknown,Cherbourg,n\n1,female,4.0,1,1,16.7,Third,G,Southampton,n\n"
    }
   ],
   "source": [
    "!head {train_file_path}"
   ]
  },
  {
   "cell_type": "code",
   "execution_count": 9,
   "metadata": {},
   "outputs": [],
   "source": [
    "LABEL_COLUMNS = \"survived\"\n",
    "LABELS = [0, 1]"
   ]
  },
  {
   "cell_type": "code",
   "execution_count": 10,
   "metadata": {},
   "outputs": [],
   "source": [
    "def get_dataset(file_path):\n",
    "    dataset = tf.data.experimental.make_csv_dataset(\n",
    "        file_path,\n",
    "        batch_size=12,\n",
    "        label_name=LABEL_COLUMNS,\n",
    "        na_value=\"?\",\n",
    "        num_epochs=1,\n",
    "        ignore_errors=True\n",
    "    )\n",
    "    return dataset\n",
    "\n",
    "raw_train_data = get_dataset(train_file_path)\n",
    "raw_test_data = get_dataset(test_file_path)"
   ]
  },
  {
   "cell_type": "markdown",
   "metadata": {},
   "source": [
    "dataset中的每个条目都是一个批次，用一个元组（多样本，多标签）表示。样本的数据组织形式是以 __列__ 为主的张量。"
   ]
  },
  {
   "cell_type": "code",
   "execution_count": 11,
   "metadata": {
    "tags": []
   },
   "outputs": [
    {
     "output_type": "stream",
     "name": "stdout",
     "text": "EXAMPLES: \n OrderedDict([('sex', <tf.Tensor: shape=(12,), dtype=string, numpy=\narray([b'female', b'female', b'male', b'male', b'male', b'male',\n       b'female', b'female', b'female', b'female', b'male', b'male'],\n      dtype=object)>), ('age', <tf.Tensor: shape=(12,), dtype=float32, numpy=\narray([23., 18., 18., 28., 38.,  3., 51., 28., 22., 11., 46., 20.],\n      dtype=float32)>), ('n_siblings_spouses', <tf.Tensor: shape=(12,), dtype=int32, numpy=array([3, 0, 1, 0, 0, 1, 1, 0, 0, 4, 0, 0])>), ('parch', <tf.Tensor: shape=(12,), dtype=int32, numpy=array([2, 2, 0, 0, 1, 1, 0, 0, 0, 2, 0, 0])>), ('fare', <tf.Tensor: shape=(12,), dtype=float32, numpy=\narray([263.   ,  13.   , 108.9  ,   8.05 , 153.462,  26.   ,  77.958,\n         7.733,   7.775,  31.275,  79.2  ,   9.225], dtype=float32)>), ('class', <tf.Tensor: shape=(12,), dtype=string, numpy=\narray([b'First', b'Second', b'First', b'Third', b'First', b'Second',\n       b'First', b'Third', b'Third', b'Third', b'First', b'Third'],\n      dtype=object)>), ('deck', <tf.Tensor: shape=(12,), dtype=string, numpy=\narray([b'C', b'unknown', b'C', b'unknown', b'C', b'F', b'D', b'unknown',\n       b'unknown', b'unknown', b'B', b'unknown'], dtype=object)>), ('embark_town', <tf.Tensor: shape=(12,), dtype=string, numpy=\narray([b'Southampton', b'Southampton', b'Cherbourg', b'Southampton',\n       b'Southampton', b'Southampton', b'Southampton', b'Queenstown',\n       b'Southampton', b'Southampton', b'Cherbourg', b'Southampton'],\n      dtype=object)>), ('alone', <tf.Tensor: shape=(12,), dtype=string, numpy=\narray([b'n', b'n', b'n', b'y', b'n', b'n', b'n', b'y', b'y', b'n', b'y',\n       b'y'], dtype=object)>)]) \n\nLABELS: \n tf.Tensor([1 1 0 0 0 1 1 1 1 0 0 0], shape=(12,), dtype=int32)\n"
    }
   ],
   "source": [
    "examples, labels = next(iter(raw_train_data))\n",
    "print(\"EXAMPLES: \\n\", examples, \"\\n\")\n",
    "print(\"LABELS: \\n\", labels)"
   ]
  },
  {
   "cell_type": "markdown",
   "metadata": {},
   "source": [
    "## 数据预处理"
   ]
  },
  {
   "cell_type": "markdown",
   "metadata": {},
   "source": [
    "### 分类数据\n",
    "分类数据的列只能在有限的集合中取值"
   ]
  },
  {
   "cell_type": "code",
   "execution_count": 13,
   "metadata": {},
   "outputs": [],
   "source": [
    "CATEGORIES = {\n",
    "    \"sex\": [\"male\", \"female\"],\n",
    "    \"class\": [\"First\", \"Second\", \"Third\"],\n",
    "    \"deck\": [\"A\", \"B\", \"C\", \"D\", \"E\", \"F\", \"G\", \"H\", \"I\", \"J\"],\n",
    "    \"embark_town\": [\"Cherbourg\", \"Southhampton\", \"Queenstown\"],\n",
    "    \"alone\": [\"y\", \"n\"]\n",
    "}"
   ]
  },
  {
   "cell_type": "code",
   "execution_count": 14,
   "metadata": {},
   "outputs": [],
   "source": [
    "categorical_columns = []\n",
    "for feature, vocab in CATEGORIES.items():\n",
    "    cat_col = tf.feature_column.categorical_column_with_vocabulary_list(\n",
    "        key=feature, vocabulary_list=vocab\n",
    "    )\n",
    "    categorical_columns.append(tf.feature_column.indicator_column(cat_col))"
   ]
  },
  {
   "cell_type": "code",
   "execution_count": 15,
   "metadata": {},
   "outputs": [
    {
     "output_type": "execute_result",
     "data": {
      "text/plain": "[IndicatorColumn(categorical_column=VocabularyListCategoricalColumn(key='sex', vocabulary_list=('male', 'female'), dtype=tf.string, default_value=-1, num_oov_buckets=0)),\n IndicatorColumn(categorical_column=VocabularyListCategoricalColumn(key='class', vocabulary_list=('First', 'Second', 'Third'), dtype=tf.string, default_value=-1, num_oov_buckets=0)),\n IndicatorColumn(categorical_column=VocabularyListCategoricalColumn(key='deck', vocabulary_list=('A', 'B', 'C', 'D', 'E', 'F', 'G', 'H', 'I', 'J'), dtype=tf.string, default_value=-1, num_oov_buckets=0)),\n IndicatorColumn(categorical_column=VocabularyListCategoricalColumn(key='embark_town', vocabulary_list=('Cherbourg', 'Southhampton', 'Queenstown'), dtype=tf.string, default_value=-1, num_oov_buckets=0)),\n IndicatorColumn(categorical_column=VocabularyListCategoricalColumn(key='alone', vocabulary_list=('y', 'n'), dtype=tf.string, default_value=-1, num_oov_buckets=0))]"
     },
     "metadata": {},
     "execution_count": 15
    }
   ],
   "source": [
    "categorical_columns"
   ]
  },
  {
   "cell_type": "markdown",
   "metadata": {},
   "source": [
    "### 连续数据\n",
    "连续数据需要标准化"
   ]
  },
  {
   "cell_type": "code",
   "execution_count": 16,
   "metadata": {},
   "outputs": [],
   "source": [
    "def process_continuous_data(mean, data):\n",
    "    data = tf.cast(data, tf.float32) * 1/(2*mean)\n",
    "    return tf.reshape(data, [-1, 1])"
   ]
  },
  {
   "cell_type": "code",
   "execution_count": 17,
   "metadata": {},
   "outputs": [],
   "source": [
    "MEANS = {\n",
    "    \"age\": 29.631308,\n",
    "    \"n_siblings_spouses\": 0.545455,\n",
    "    \"parch\": 0.379585,\n",
    "    \"fare\": 34.385399\n",
    "}\n",
    "\n",
    "numerical_columns = []\n",
    "\n",
    "for feature in MEANS.keys():\n",
    "    num_col = tf.feature_column.numeric_column(feature, normalizer_fn=functools.partial(process_continuous_data, MEANS[feature]))\n",
    "    numerical_columns.append(num_col)"
   ]
  },
  {
   "cell_type": "code",
   "execution_count": 18,
   "metadata": {},
   "outputs": [
    {
     "output_type": "execute_result",
     "data": {
      "text/plain": "[NumericColumn(key='age', shape=(1,), default_value=None, dtype=tf.float32, normalizer_fn=functools.partial(<function process_continuous_data at 0x0000027B4BC7AEE8>, 29.631308)),\n NumericColumn(key='n_siblings_spouses', shape=(1,), default_value=None, dtype=tf.float32, normalizer_fn=functools.partial(<function process_continuous_data at 0x0000027B4BC7AEE8>, 0.545455)),\n NumericColumn(key='parch', shape=(1,), default_value=None, dtype=tf.float32, normalizer_fn=functools.partial(<function process_continuous_data at 0x0000027B4BC7AEE8>, 0.379585)),\n NumericColumn(key='fare', shape=(1,), default_value=None, dtype=tf.float32, normalizer_fn=functools.partial(<function process_continuous_data at 0x0000027B4BC7AEE8>, 34.385399))]"
     },
     "metadata": {},
     "execution_count": 18
    }
   ],
   "source": [
    "numerical_columns"
   ]
  },
  {
   "cell_type": "markdown",
   "metadata": {},
   "source": [
    "## 创建预处理层\n",
    "两个特征列的集合相加，并传给API，创建一个进行预处理的输入层"
   ]
  },
  {
   "cell_type": "code",
   "execution_count": 19,
   "metadata": {},
   "outputs": [],
   "source": [
    "preprocessing_layer = tf.keras.layers.DenseFeatures(categorical_columns + numerical_columns)"
   ]
  },
  {
   "cell_type": "markdown",
   "metadata": {},
   "source": [
    "## 构建模型"
   ]
  },
  {
   "cell_type": "code",
   "execution_count": 20,
   "metadata": {},
   "outputs": [],
   "source": [
    "model = tf.keras.Sequential([\n",
    "    preprocessing_layer,\n",
    "    tf.keras.layers.Dense(128, activation=\"relu\"),\n",
    "    tf.keras.layers.Dense(128, activation=\"relu\"),\n",
    "    tf.keras.layers.Dense(1, activation=\"sigmoid\"),\n",
    "])\n",
    "\n",
    "model.compile(\n",
    "    loss=\"binary_crossentropy\",\n",
    "    optimizer=\"adam\",\n",
    "    metrics=[\"accuracy\"]\n",
    ")"
   ]
  },
  {
   "cell_type": "markdown",
   "metadata": {},
   "source": [
    "## 训练、评估和预测"
   ]
  },
  {
   "cell_type": "code",
   "execution_count": 21,
   "metadata": {},
   "outputs": [],
   "source": [
    "train_data = raw_train_data.shuffle(500)\n",
    "test_data = raw_test_data"
   ]
  },
  {
   "cell_type": "code",
   "execution_count": 22,
   "metadata": {
    "tags": []
   },
   "outputs": [
    {
     "output_type": "stream",
     "name": "stdout",
     "text": "WARNING:tensorflow:From C:\\Users\\PC\\Anaconda3\\envs\\yao\\lib\\site-packages\\tensorflow_core\\python\\feature_column\\feature_column_v2.py:4267: IndicatorColumn._variable_shape (from tensorflow.python.feature_column.feature_column_v2) is deprecated and will be removed in a future version.\nInstructions for updating:\nThe old _FeatureColumn APIs are being deprecated. Please use the new FeatureColumn APIs instead.\nWARNING:tensorflow:From C:\\Users\\PC\\Anaconda3\\envs\\yao\\lib\\site-packages\\tensorflow_core\\python\\feature_column\\feature_column_v2.py:4322: VocabularyListCategoricalColumn._num_buckets (from tensorflow.python.feature_column.feature_column_v2) is deprecated and will be removed in a future version.\nInstructions for updating:\nThe old _FeatureColumn APIs are being deprecated. Please use the new FeatureColumn APIs instead.\nEpoch 1/20\n53/53 [==============================] - 1s 21ms/step - loss: 0.5373 - accuracy: 0.7496\nEpoch 2/20\n53/53 [==============================] - 0s 3ms/step - loss: 0.4293 - accuracy: 0.8022\nEpoch 3/20\n53/53 [==============================] - 0s 2ms/step - loss: 0.4150 - accuracy: 0.8166\nEpoch 4/20\n53/53 [==============================] - 0s 2ms/step - loss: 0.4057 - accuracy: 0.8214\nEpoch 5/20\n53/53 [==============================] - 0s 2ms/step - loss: 0.3962 - accuracy: 0.8246\nEpoch 6/20\n53/53 [==============================] - 0s 2ms/step - loss: 0.3895 - accuracy: 0.8230\nEpoch 7/20\n53/53 [==============================] - 0s 2ms/step - loss: 0.3830 - accuracy: 0.8357\nEpoch 8/20\n53/53 [==============================] - 0s 2ms/step - loss: 0.3702 - accuracy: 0.8453\nEpoch 9/20\n53/53 [==============================] - 0s 2ms/step - loss: 0.3753 - accuracy: 0.8325\nEpoch 10/20\n53/53 [==============================] - 0s 2ms/step - loss: 0.3687 - accuracy: 0.8453\nEpoch 11/20\n53/53 [==============================] - 0s 2ms/step - loss: 0.3638 - accuracy: 0.8437\nEpoch 12/20\n53/53 [==============================] - 0s 2ms/step - loss: 0.3572 - accuracy: 0.8373\nEpoch 13/20\n53/53 [==============================] - 0s 2ms/step - loss: 0.3560 - accuracy: 0.8501\nEpoch 14/20\n53/53 [==============================] - 0s 2ms/step - loss: 0.3465 - accuracy: 0.8453\nEpoch 15/20\n53/53 [==============================] - 0s 2ms/step - loss: 0.3568 - accuracy: 0.8533\nEpoch 16/20\n53/53 [==============================] - 0s 2ms/step - loss: 0.3496 - accuracy: 0.8437\nEpoch 17/20\n53/53 [==============================] - 0s 2ms/step - loss: 0.3480 - accuracy: 0.8437\nEpoch 18/20\n53/53 [==============================] - 0s 2ms/step - loss: 0.3409 - accuracy: 0.8628\nEpoch 19/20\n53/53 [==============================] - 0s 2ms/step - loss: 0.3403 - accuracy: 0.8549\nEpoch 20/20\n53/53 [==============================] - 0s 2ms/step - loss: 0.3343 - accuracy: 0.8565\n"
    },
    {
     "output_type": "execute_result",
     "data": {
      "text/plain": "<tensorflow.python.keras.callbacks.History at 0x27b578f86c8>"
     },
     "metadata": {},
     "execution_count": 22
    }
   ],
   "source": [
    "model.fit(train_data, epochs=20)"
   ]
  },
  {
   "cell_type": "code",
   "execution_count": 23,
   "metadata": {
    "tags": []
   },
   "outputs": [
    {
     "output_type": "stream",
     "name": "stdout",
     "text": "22/Unknown - 0s 14ms/step - loss: 0.4543 - accuracy: 0.8144\n\nTest Loss 0.45434276962822134, Test Accuracy 0.814393937587738\n"
    }
   ],
   "source": [
    "test_loss, test_accuracy = model.evaluate(test_data)\n",
    "print(\"\\n\\nTest Loss {}, Test Accuracy {}\".format(test_loss, test_accuracy))"
   ]
  },
  {
   "cell_type": "code",
   "execution_count": 24,
   "metadata": {
    "tags": []
   },
   "outputs": [
    {
     "output_type": "stream",
     "name": "stdout",
     "text": "Predicted survival: 90.02%  | Actual outcome:  DIED\nPredicted survival: 25.21%  | Actual outcome:  DIED\nPredicted survival: 4.94%  | Actual outcome:  DIED\nPredicted survival: 85.54%  | Actual outcome:  DIED\nPredicted survival: 83.89%  | Actual outcome:  DIED\nPredicted survival: 8.12%  | Actual outcome:  DIED\nPredicted survival: 6.39%  | Actual outcome:  DIED\nPredicted survival: 18.59%  | Actual outcome:  DIED\nPredicted survival: 68.48%  | Actual outcome:  SURVIVED\nPredicted survival: 88.61%  | Actual outcome:  DIED\n"
    }
   ],
   "source": [
    "# 使用tf.keras.Model.predict推断一个或多个批次的标签\n",
    "predictions = model.predict(test_data)\n",
    "\n",
    "for prediction, survived in zip(predictions[:10], list(test_data)[0][1][:10]):\n",
    "    print(\"Predicted survival: {:.2%}\".format(prediction[0]),\n",
    "    \" | Actual outcome: \",\n",
    "    (\"SURVIVED\" if bool(survived) else \"DIED\"))"
   ]
  },
  {
   "cell_type": "code",
   "execution_count": null,
   "metadata": {},
   "outputs": [],
   "source": []
  }
 ]
}