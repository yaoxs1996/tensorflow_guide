{
 "metadata": {
  "language_info": {
   "codemirror_mode": {
    "name": "ipython",
    "version": 3
   },
   "file_extension": ".py",
   "mimetype": "text/x-python",
   "name": "python",
   "nbconvert_exporter": "python",
   "pygments_lexer": "ipython3",
   "version": "3.7.7-final"
  },
  "orig_nbformat": 2,
  "kernelspec": {
   "name": "python_defaultSpec_1599546634253",
   "display_name": "Python 3.7.7 64-bit ('yao': conda)"
  }
 },
 "nbformat": 4,
 "nbformat_minor": 2,
 "cells": [
  {
   "cell_type": "code",
   "execution_count": 1,
   "metadata": {},
   "outputs": [],
   "source": [
    "import numpy as np\n",
    "import tensorflow as tf\n",
    "import tensorflow_datasets as tfds"
   ]
  },
  {
   "cell_type": "code",
   "execution_count": 2,
   "metadata": {
    "tags": []
   },
   "outputs": [
    {
     "output_type": "stream",
     "name": "stdout",
     "text": "Downloading data from https://storage.googleapis.com/tensorflow/tf-keras-datasets/mnist.npz\n11493376/11490434 [==============================] - 58s 5us/step\n"
    }
   ],
   "source": [
    "DATA_URL = \"https://storage.googleapis.com/tensorflow/tf-keras-datasets/mnist.npz\"\n",
    "\n",
    "path = tf.keras.utils.get_file(\"mnist.pnz\", DATA_URL)\n",
    "with np.load(path) as data:\n",
    "    train_examples = data[\"x_train\"]\n",
    "    train_labels = data[\"y_train\"]\n",
    "    test_examples = data[\"x_test\"]\n",
    "    test_labels = data[\"y_test\"]"
   ]
  },
  {
   "cell_type": "code",
   "execution_count": 3,
   "metadata": {},
   "outputs": [],
   "source": [
    "train_dataset = tf.data.Dataset.from_tensor_slices((train_examples, train_labels))\n",
    "test_dataset = tf.data.Dataset.from_tensor_slices((test_examples, test_labels))"
   ]
  },
  {
   "cell_type": "code",
   "execution_count": 4,
   "metadata": {},
   "outputs": [],
   "source": [
    "BATCH_SIZE = 64\n",
    "SHUFFLE_BUFFER_SIZE = 100\n",
    "\n",
    "train_dataset = train_dataset.shuffle(SHUFFLE_BUFFER_SIZE).batch(BATCH_SIZE)\n",
    "test_dataset = test_dataset.batch(BATCH_SIZE)"
   ]
  },
  {
   "cell_type": "code",
   "execution_count": 5,
   "metadata": {},
   "outputs": [],
   "source": [
    "model = tf.keras.Sequential([\n",
    "    tf.keras.layers.Flatten(input_shape=(28,28)),\n",
    "    tf.keras.layers.Dense(128, activation=\"relu\"),\n",
    "    tf.keras.layers.Dense(10, activation=\"softmax\")\n",
    "])\n",
    "\n",
    "model.compile(optimizer=tf.keras.optimizers.RMSprop(),\n",
    "    loss=tf.keras.losses.SparseCategoricalCrossentropy(),\n",
    "    metrics=[tf.keras.metrics.SparseCategoricalAccuracy()])"
   ]
  },
  {
   "cell_type": "code",
   "execution_count": 6,
   "metadata": {
    "tags": []
   },
   "outputs": [
    {
     "output_type": "stream",
     "name": "stdout",
     "text": "Train for 938 steps\nEpoch 1/10\n938/938 [==============================] - 2s 2ms/step - loss: 3.4703 - sparse_categorical_accuracy: 0.8788\nEpoch 2/10\n938/938 [==============================] - 1s 2ms/step - loss: 0.5654 - sparse_categorical_accuracy: 0.9255\nEpoch 3/10\n938/938 [==============================] - 1s 2ms/step - loss: 0.4071 - sparse_categorical_accuracy: 0.9424\nEpoch 4/10\n938/938 [==============================] - 1s 2ms/step - loss: 0.3328 - sparse_categorical_accuracy: 0.9538\nEpoch 5/10\n938/938 [==============================] - 2s 2ms/step - loss: 0.3004 - sparse_categorical_accuracy: 0.9585\nEpoch 6/10\n938/938 [==============================] - 2s 2ms/step - loss: 0.2873 - sparse_categorical_accuracy: 0.9628\nEpoch 7/10\n938/938 [==============================] - 2s 2ms/step - loss: 0.2418 - sparse_categorical_accuracy: 0.9678\nEpoch 8/10\n938/938 [==============================] - 2s 2ms/step - loss: 0.2367 - sparse_categorical_accuracy: 0.9700\nEpoch 9/10\n938/938 [==============================] - 2s 2ms/step - loss: 0.2116 - sparse_categorical_accuracy: 0.9734\nEpoch 10/10\n938/938 [==============================] - 2s 2ms/step - loss: 0.2130 - sparse_categorical_accuracy: 0.9746\n"
    },
    {
     "output_type": "execute_result",
     "data": {
      "text/plain": "<tensorflow.python.keras.callbacks.History at 0x214cfeeaac8>"
     },
     "metadata": {},
     "execution_count": 6
    }
   ],
   "source": [
    "model.fit(train_dataset, epochs=10)"
   ]
  },
  {
   "cell_type": "code",
   "execution_count": 7,
   "metadata": {
    "tags": []
   },
   "outputs": [
    {
     "output_type": "stream",
     "name": "stdout",
     "text": "157/157 [==============================] - 0s 1ms/step - loss: 0.6654 - sparse_categorical_accuracy: 0.9578\n"
    },
    {
     "output_type": "execute_result",
     "data": {
      "text/plain": "[0.6653890922512858, 0.9578]"
     },
     "metadata": {},
     "execution_count": 7
    }
   ],
   "source": [
    "model.evaluate(test_dataset)"
   ]
  },
  {
   "cell_type": "code",
   "execution_count": null,
   "metadata": {},
   "outputs": [],
   "source": []
  }
 ]
}