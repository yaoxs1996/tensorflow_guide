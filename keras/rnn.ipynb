{
 "metadata": {
  "language_info": {
   "codemirror_mode": {
    "name": "ipython",
    "version": 3
   },
   "file_extension": ".py",
   "mimetype": "text/x-python",
   "name": "python",
   "nbconvert_exporter": "python",
   "pygments_lexer": "ipython3",
   "version": "3.7.9-final"
  },
  "orig_nbformat": 2,
  "kernelspec": {
   "name": "Python 3.7.9 64-bit ('yao': conda)",
   "display_name": "Python 3.7.9 64-bit ('yao': conda)",
   "metadata": {
    "interpreter": {
     "hash": "c96ee6386db992edf49c25338f82986cda56bbb57b2a253ebd8fa57147908889"
    }
   }
  }
 },
 "nbformat": 4,
 "nbformat_minor": 2,
 "cells": [
  {
   "cell_type": "code",
   "execution_count": 1,
   "metadata": {},
   "outputs": [],
   "source": [
    "import numpy as np\n",
    "import tensorflow as tf\n",
    "from tensorflow import keras\n",
    "from tensorflow.keras import layers"
   ]
  },
  {
   "source": [
    "## 内建的RNN层"
   ],
   "cell_type": "markdown",
   "metadata": {}
  },
  {
   "cell_type": "code",
   "execution_count": 2,
   "metadata": {},
   "outputs": [
    {
     "output_type": "stream",
     "name": "stdout",
     "text": [
      "Model: \"sequential\"\n_________________________________________________________________\nLayer (type)                 Output Shape              Param #   \n=================================================================\nembedding (Embedding)        (None, None, 64)          64000     \n_________________________________________________________________\nlstm (LSTM)                  (None, 128)               98816     \n_________________________________________________________________\ndense (Dense)                (None, 10)                1290      \n=================================================================\nTotal params: 164,106\nTrainable params: 164,106\nNon-trainable params: 0\n_________________________________________________________________\n"
     ]
    }
   ],
   "source": [
    "model = keras.Sequential()\n",
    "# 增加一个Embedding层，使得输入词汇量1000，输出embedding维度为64\n",
    "model.add(keras.layers.Embedding(input_dim=1000, output_dim=64))\n",
    "\n",
    "# 增加一个有128个内部单元的LSTM层\n",
    "model.add(layers.LSTM(128))\n",
    "\n",
    "# 10个单元的全连接层\n",
    "model.add(layers.Dense(10))\n",
    "\n",
    "model.summary()"
   ]
  },
  {
   "source": [
    "## 输出与状态\n",
    "\n",
    "通常RNN的输出层包含一个每个样本简单向量。该向量与最后的时间步相关，包含整个输入序列的信息。\n",
    "\n",
    "输出的形状为 `(batch_size, units)`。RNN层通过设置`return_sequences=True`可以返回整个序列 `(batch_size, timesteps, units)`"
   ],
   "cell_type": "markdown",
   "metadata": {}
  },
  {
   "cell_type": "code",
   "execution_count": 3,
   "metadata": {},
   "outputs": [
    {
     "output_type": "stream",
     "name": "stdout",
     "text": [
      "Model: \"sequential_1\"\n_________________________________________________________________\nLayer (type)                 Output Shape              Param #   \n=================================================================\nembedding_1 (Embedding)      (None, None, 64)          64000     \n_________________________________________________________________\ngru (GRU)                    (None, None, 256)         247296    \n_________________________________________________________________\nsimple_rnn (SimpleRNN)       (None, 128)               49280     \n_________________________________________________________________\ndense_1 (Dense)              (None, 10)                1290      \n=================================================================\nTotal params: 361,866\nTrainable params: 361,866\nNon-trainable params: 0\n_________________________________________________________________\n"
     ]
    }
   ],
   "source": [
    "model = keras.Sequential()\n",
    "model.add(layers.Embedding(input_dim=1000, output_dim=64))\n",
    "\n",
    "# GRU的输出为3D tensor，形状为 (batch_size, timesteps, 256)\n",
    "model.add(layers.GRU(256, return_sequences=True))\n",
    "\n",
    "# SimpleRNN的输出为2D tensor (batch_size, 128)\n",
    "model.add(layers.SimpleRNN(128))\n",
    "\n",
    "model.add(layers.Dense(10))\n",
    "\n",
    "model.summary()"
   ]
  },
  {
   "source": [
    "此外，RNN层可以返回其最终的内部状态，可以用于重新执行RNN，或者初始化其他RNN。通常用于encoder-decoder的sequence-to-sequnce模型。\n",
    "\n",
    "配置RNN返回内部状态需要在创建层时设置参数 `return_state=True`。LSTM有2个状态张量，而GRU只有1个。\n",
    "\n",
    "配置层的初始state，调用额外参数`initial_state`。注意shape需要匹配unit的大小。"
   ],
   "cell_type": "markdown",
   "metadata": {}
  },
  {
   "cell_type": "code",
   "execution_count": 4,
   "metadata": {},
   "outputs": [
    {
     "output_type": "stream",
     "name": "stdout",
     "text": [
      "Model: \"model\"\n__________________________________________________________________________________________________\nLayer (type)                    Output Shape         Param #     Connected to                     \n==================================================================================================\ninput_1 (InputLayer)            [(None, None)]       0                                            \n__________________________________________________________________________________________________\ninput_2 (InputLayer)            [(None, None)]       0                                            \n__________________________________________________________________________________________________\nembedding_2 (Embedding)         (None, None, 64)     64000       input_1[0][0]                    \n__________________________________________________________________________________________________\nembedding_3 (Embedding)         (None, None, 64)     128000      input_2[0][0]                    \n__________________________________________________________________________________________________\nencoder (LSTM)                  [(None, 64), (None,  33024       embedding_2[0][0]                \n__________________________________________________________________________________________________\ndecoder (LSTM)                  (None, 64)           33024       embedding_3[0][0]                \n                                                                 encoder[0][1]                    \n                                                                 encoder[0][2]                    \n__________________________________________________________________________________________________\ndense_2 (Dense)                 (None, 10)           650         decoder[0][0]                    \n==================================================================================================\nTotal params: 258,698\nTrainable params: 258,698\nNon-trainable params: 0\n__________________________________________________________________________________________________\n"
     ]
    }
   ],
   "source": [
    "encoder_vocab = 1000\n",
    "decoder_vocab = 2000\n",
    "\n",
    "encoder_input = layers.Input(shape=(None,))\n",
    "encoder_embedded = layers.Embedding(input_dim=encoder_vocab, output_dim=64)(encoder_input)      # 两个括号表明前者会返回一个函数\n",
    "\n",
    "# 输出以外还会返回states\n",
    "output, state_h, state_c = layers.LSTM(64, return_state=True, name=\"encoder\")(encoder_embedded)\n",
    "encoder_state = [state_h, state_c]\n",
    "\n",
    "decoder_input = layers.Input(shape=(None,))\n",
    "decoder_embedded = layers.Embedding(input_dim=decoder_vocab, output_dim=64)(decoder_input)\n",
    "\n",
    "# 将2个states送入新的LSTM层，作为初始state\n",
    "decoder_output = layers.LSTM(64, name=\"decoder\")(decoder_embedded, initial_state=encoder_state)\n",
    "output = layers.Dense(10)(decoder_output)\n",
    "\n",
    "model = keras.Model([encoder_input, decoder_input], output)\n",
    "model.summary()"
   ]
  },
  {
   "source": [
    "## RNN layers 与 RNN cells\n",
    "\n",
    "RNN API还提供cell级别的API。RNNceng处理输入序列的整个batch，但是RNN cell只处理单个时间步。\n",
    "\n",
    "cell在RNN层的`for`循环内。`keras.layers.RNN`封装了cell，使得能够处理序列批次。例如`RNN(LSTMCell(10))`。\n",
    "\n",
    "`RNN(LSTMCell(10)`与`LSTM(10)`产生相同的结果。使用内建测`GRU`和`LSTM`层能够使用CuDNN，从而获得更好的表现。\n",
    "\n",
    "有三种内建的RNN cell，与其对应的RNN层匹配：\n",
    "\n",
    "* `keras.layers.SimpleRNNCell`\n",
    "* `keras.layers.GRUCell`\n",
    "* `keras.layers.LSTMCell`\n",
    "\n",
    "抽象Cell与通用RNN类结合能够容易自定义RNN结构。"
   ],
   "cell_type": "markdown",
   "metadata": {}
  },
  {
   "source": [
    "## Cross-batch statefulness\n",
    "\n",
    "处理非常长的序列（可能无限长）时，使用。\n",
    "\n",
    "通常，RNN层的内部状态在每次看见新的批次数据时都会重置（即 层所见的样本都认为与过去的是独立的）。只有处理给定样本时，网络层才会保留state。\n",
    "\n",
    "当有非常的序列时，需要将其截断成较短的序列输入到RNN层，并且不重置网络层的state。使得网络层获得整个序列的信息。\n",
    "\n",
    "通过在构造函数中设置`stateful=True`。\n",
    "\n",
    "例如\n",
    "\n",
    "```python\n",
    "s = [t0, t1, ..., t1546, t1547]\n",
    "s1 = [t0, t1, ..., t100]\n",
    "s2 = [t101, ..., t201]\n",
    "...\n",
    "s16 = [t1501, ..., t1547]\n",
    "\n",
    "lstm_layer = layers.LSTM(64, stateful=True)\n",
    "for s in sub_sequences:\n",
    "    output = lstm_layer(s)\n",
    "```\n",
    "\n",
    "使用`layer.reset_states()`来清空state。"
   ],
   "cell_type": "markdown",
   "metadata": {}
  },
  {
   "cell_type": "code",
   "execution_count": 5,
   "metadata": {},
   "outputs": [],
   "source": [
    "paragraph1 = np.random.random((20, 10, 50)).astype(np.float32)\n",
    "paragraph2 = np.random.random((20, 10, 50)).astype(np.float32)\n",
    "paragraph3 = np.random.random((20, 10, 50)).astype(np.float32)\n",
    "\n",
    "lstm_layer = layers.LSTM(64, stateful=True)\n",
    "output = lstm_layer(paragraph1)\n",
    "output = lstm_layer(paragraph2)\n",
    "output = lstm_layer(paragraph3)\n",
    "\n",
    "lstm_layer.reset_states()"
   ]
  },
  {
   "source": [
    "### RNN状态重用\n",
    "\n",
    "RNN层的记录states并不包括`layers.weights()`。使用`layer.states`重用state值，在新模型层中使用`new_layer(inputs, initial_state=layer.states)`或者模型的子类。\n",
    "\n",
    "此处没有使用序列模型，因为序列模型只支持单输入和单输出。"
   ],
   "cell_type": "markdown",
   "metadata": {}
  },
  {
   "cell_type": "code",
   "execution_count": 6,
   "metadata": {},
   "outputs": [],
   "source": [
    "paragraph1 = np.random.random((20, 10, 50)).astype(np.float32)\n",
    "paragraph2 = np.random.random((20, 10, 50)).astype(np.float32)\n",
    "paragraph3 = np.random.random((20, 10, 50)).astype(np.float32)\n",
    "\n",
    "lstm_layer = layers.LSTM(64, stateful=True)\n",
    "output = lstm_layer(paragraph1)\n",
    "output = lstm_layer(paragraph2)\n",
    "\n",
    "existing_state = lstm_layer.states\n",
    "\n",
    "new_lstm_layer = layers.LSTM(64)\n",
    "new_output = new_lstm_layer(paragraph3, initial_state=existing_state)"
   ]
  },
  {
   "source": [
    "## 双向RNN\n",
    "\n",
    "除了时序以外的序列（例如文本），RNN模型不仅从头到尾处理能表现较好，反向也行。例如，预测句子中的下一个词，可以使用该词上下文，不仅只使用之前的词。"
   ],
   "cell_type": "markdown",
   "metadata": {}
  },
  {
   "cell_type": "code",
   "execution_count": 7,
   "metadata": {},
   "outputs": [
    {
     "output_type": "stream",
     "name": "stdout",
     "text": [
      "Model: \"sequential_2\"\n_________________________________________________________________\nLayer (type)                 Output Shape              Param #   \n=================================================================\nbidirectional (Bidirectional (None, 5, 128)            38400     \n_________________________________________________________________\nbidirectional_1 (Bidirection (None, 64)                41216     \n_________________________________________________________________\ndense_3 (Dense)              (None, 10)                650       \n=================================================================\nTotal params: 80,266\nTrainable params: 80,266\nNon-trainable params: 0\n_________________________________________________________________\n"
     ]
    }
   ],
   "source": [
    "model = keras.Sequential()\n",
    "\n",
    "model.add(layers.Bidirectional(layers.LSTM(64, return_sequences=True), input_shape=(5, 10)))\n",
    "model.add(layers.Bidirectional(layers.LSTM(32)))\n",
    "model.add(layers.Dense(10))\n",
    "\n",
    "model.summary()"
   ]
  },
  {
   "source": [
    "## 结果优化与CuDNN核\n",
    "\n",
    "TF 2.0内建的LSTM与GRU能够默认使用CUDNN核。\n",
    "\n",
    "改变内建LSTM和GRU的一些默认值会使得无法使用CuDNN核。"
   ],
   "cell_type": "markdown",
   "metadata": {}
  },
  {
   "source": [
    "### 可用时，使用CuDNN核\n",
    "\n",
    "使用MNIST的每行作为一个输入序列，预测标签。"
   ],
   "cell_type": "markdown",
   "metadata": {}
  },
  {
   "cell_type": "code",
   "execution_count": 8,
   "metadata": {},
   "outputs": [],
   "source": [
    "batch_size = 64\n",
    "# 每个MNIST图像批次是一个 (batch_size, 28, 28) 的张量\n",
    "# 输入序列为 (28, 28)（高度被视为时间）\n",
    "input_dim = 28\n",
    "\n",
    "units = 64\n",
    "output_size = 10        # 标签 0-9\n",
    "\n",
    "# 构建RNN模型\n",
    "def build_model(allow_cudnn_kernel=True):      # 因为俺是没有独显的机器上跑的\n",
    "    # CuDNN只在网络层级可用，cell级不可用\n",
    "    # 即 `LSTM(units)` 会使用CuDNN，但 `RNN(LSTMCell(units))` 不会使用\n",
    "    if allow_cudnn_kernel:\n",
    "        lstm_layer = keras.layers.LSTM(units, input_shape=(None, input_dim))\n",
    "    else:\n",
    "        # 将LSTMCell封装在RNN层就不会使用CuDNN\n",
    "        lstm_layer = keras.layers.RNN(keras.layers.LSTMCell(units), input_shape=(None, input_dim))\n",
    "\n",
    "    model = keras.models.Sequential([lstm_layer, keras.layers.BatchNormalization(), keras.layers.Dense(output_size)])\n",
    "    return model"
   ]
  },
  {
   "cell_type": "code",
   "execution_count": 9,
   "metadata": {},
   "outputs": [],
   "source": [
    "# 载入MNIST数据集\n",
    "mnist = keras.datasets.mnist\n",
    "\n",
    "(x_train, y_train), (x_test, y_test) = mnist.load_data()\n",
    "x_train, x_test = x_train / 255.0, x_test / 255.0\n",
    "sample, sample_label = x_train[0], y_train[0]"
   ]
  },
  {
   "source": [
    "使用`sparse_categorical_crossentropy`作为模型的损失函数。模型的输出为`[batch_size, 10]`。"
   ],
   "cell_type": "markdown",
   "metadata": {}
  },
  {
   "cell_type": "code",
   "execution_count": 12,
   "metadata": {},
   "outputs": [
    {
     "output_type": "stream",
     "name": "stdout",
     "text": [
      "Train on 60000 samples, validate on 10000 samples\n",
      "60000/60000 [==============================] - 19s 314us/sample - loss: 0.9643 - accuracy: 0.6957 - val_loss: 0.5855 - val_accuracy: 0.8227\n"
     ]
    },
    {
     "output_type": "execute_result",
     "data": {
      "text/plain": [
       "<tensorflow.python.keras.callbacks.History at 0x258d0970ec8>"
      ]
     },
     "metadata": {},
     "execution_count": 12
    }
   ],
   "source": [
    "model = build_model(allow_cudnn_kernel=True)\n",
    "\n",
    "model.compile(\n",
    "    loss=keras.losses.SparseCategoricalCrossentropy(from_logits=True),\n",
    "    optimizer=\"sgd\",\n",
    "    metrics=[\"accuracy\"],\n",
    ")\n",
    "\n",
    "model.fit(x_train, y_train, validation_data=(x_test, y_test), batch_size=batch_size, epochs=1)"
   ]
  },
  {
   "cell_type": "code",
   "execution_count": 13,
   "metadata": {},
   "outputs": [
    {
     "output_type": "stream",
     "name": "stdout",
     "text": [
      "预测结果为：[3]，目标结果为：5\n"
     ]
    },
    {
     "output_type": "display_data",
     "data": {
      "text/plain": "<Figure size 432x288 with 1 Axes>",
      "image/png": "[encoded data removed]"
     },
     "metadata": {
      "needs_background": "light"
     }
    }
   ],
   "source": [
    "import matplotlib.pyplot as plt\n",
    "\n",
    "with tf.device(\"CPU:0\"):\n",
    "    cpu_model = build_model(allow_cudnn_kernel=True)\n",
    "    cpu_model.set_weights(model.get_weights())\n",
    "    result = tf.argmax(cpu_model.predict_on_batch(tf.expand_dims(sample, 0)), axis=1)\n",
    "    print(\"预测结果为：%s，目标结果为：%s\" %(result.numpy(), sample_label))\n",
    "    plt.imshow(sample, cmap=plt.get_cmap(\"gray\"))"
   ]
  },
  {
   "source": [
    "## list/dict输入或者嵌套输入的RNN"
   ],
   "cell_type": "markdown",
   "metadata": {}
  }
 ]
}